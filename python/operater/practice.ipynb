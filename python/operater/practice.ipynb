{
 "cells": [
  {
   "cell_type": "code",
   "execution_count": 6,
   "metadata": {},
   "outputs": [
    {
     "name": "stdout",
     "output_type": "stream",
     "text": [
      "2\n",
      "1\n",
      "15\n",
      "2.0\n",
      "2\n"
     ]
    }
   ],
   "source": [
    "# 연산자\n",
    "\n",
    "print(1+1)\n",
    "print(2-1)\n",
    "print(5*3)\n",
    "print(4/2) # 실수형으로 출력됨\n",
    "print(int(4/2)) # 정수형으로 치환\n"
   ]
  },
  {
   "cell_type": "code",
   "execution_count": 5,
   "metadata": {},
   "outputs": [
    {
     "name": "stdout",
     "output_type": "stream",
     "text": [
      "4\n",
      "2\n",
      "2\n",
      "2.5\n"
     ]
    }
   ],
   "source": [
    "\n",
    "print(2**2) # 제곱\n",
    "print(7%5) # 나머지\n",
    "print(5//2) #몫\n",
    "print(5/2) # 여기에서 소숫점 버리고 싶다면 int로 치환해주면 됨"
   ]
  },
  {
   "cell_type": "code",
   "execution_count": 7,
   "metadata": {},
   "outputs": [
    {
     "name": "stdout",
     "output_type": "stream",
     "text": [
      "False\n",
      "True\n",
      "True\n",
      "False\n"
     ]
    }
   ],
   "source": [
    "print(1>3)\n",
    "print(1<=6)\n",
    "print(7==7)\n",
    "print(7!=7)"
   ]
  },
  {
   "cell_type": "code",
   "execution_count": 16,
   "metadata": {},
   "outputs": [
    {
     "name": "stdout",
     "output_type": "stream",
     "text": [
      "False\n",
      "True\n",
      "False\n",
      "True\n",
      "True\n",
      "False\n"
     ]
    }
   ],
   "source": [
    "# 논리연산\n",
    "print(1>2) and (2>3) # 둘 다 true인 경우에만 true\n",
    "print(1<2) and (2<3)\n",
    "print(1>2 & 2>3)\n",
    "print(1<2)or(2<3) # 둘 중 하나만 true면 true / 둘 다 false여야 false\n",
    "print(1<2)or(2>3)\n",
    "print(1<2 | 2>3)"
   ]
  },
  {
   "cell_type": "code",
   "execution_count": 17,
   "metadata": {},
   "outputs": [
    {
     "name": "stdout",
     "output_type": "stream",
     "text": [
      "True\n",
      "True\n"
     ]
    }
   ],
   "source": [
    "# 멤버연산\n",
    "print(1 in (1,2,3,4)) # 멤버의 값에 있으면 true\n",
    "print(1 not in (2,3,4,5)) # 멤버의 값에 없으면 true"
   ]
  },
  {
   "cell_type": "code",
   "execution_count": 22,
   "metadata": {},
   "outputs": [
    {
     "name": "stdout",
     "output_type": "stream",
     "text": [
      "12\n",
      "23\n",
      "35\n",
      "35\n",
      "36\n",
      "37\n",
      "38\n",
      "76\n"
     ]
    }
   ],
   "source": [
    "# 간단한 연산\n",
    "print(3+4+5)\n",
    "print(3+4*5)\n",
    "print((3+4)*5)\n",
    "\n",
    "number=(3+4)*5\n",
    "print(number)\n",
    "number = number +1\n",
    "print(number)\n",
    "number = number +1\n",
    "print(number)\n",
    "\n",
    "number += 1\n",
    "print(number)\n",
    "\n",
    "number *= 2\n",
    "print(number)\n"
   ]
  },
  {
   "cell_type": "code",
   "execution_count": 23,
   "metadata": {},
   "outputs": [
    {
     "name": "stdout",
     "output_type": "stream",
     "text": [
      "7\n",
      "9\n",
      "7\n",
      "3\n",
      "4\n"
     ]
    }
   ],
   "source": [
    "# 최소/절대/최대/반올림\n",
    "print(min(7,9))\n",
    "print(max(7,9))\n",
    "print(abs(-7)) # 절대값\n",
    "print(round(3.14)) # 반올림\n",
    "print(round(3.91))"
   ]
  },
  {
   "cell_type": "code",
   "execution_count": 29,
   "metadata": {},
   "outputs": [
    {
     "name": "stdout",
     "output_type": "stream",
     "text": [
      "0.22376656464381528\n",
      "2\n",
      "2\n",
      "7\n",
      "5\n"
     ]
    }
   ],
   "source": [
    "# 랜덤값 구하기\n",
    "from random import *\n",
    "\n",
    "print (random()) # 0.0 부터 1.0미만의 실수가 나옴\n",
    "# 정수로 바꾸자\n",
    "print (int(random()*10)) \n",
    "# 1부터 10까지 랜덤 숫자\n",
    "print (int(random()*10) + 1) \n",
    "print (randint(1,10)) # 1부터 10이하의 랜덤숫자가 나타남\n",
    "print (randrange(1,10)) #1부터 10미만의 랜덤숫자가 나타남"
   ]
  },
  {
   "cell_type": "code",
   "execution_count": null,
   "metadata": {},
   "outputs": [],
   "source": []
  }
 ],
 "metadata": {
  "kernelspec": {
   "display_name": "Python 3",
   "language": "python",
   "name": "python3"
  },
  "language_info": {
   "codemirror_mode": {
    "name": "ipython",
    "version": 3
   },
   "file_extension": ".py",
   "mimetype": "text/x-python",
   "name": "python",
   "nbconvert_exporter": "python",
   "pygments_lexer": "ipython3",
   "version": "3.11.4"
  },
  "orig_nbformat": 4
 },
 "nbformat": 4,
 "nbformat_minor": 2
}
