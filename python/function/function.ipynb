{
 "cells": [
  {
   "cell_type": "code",
   "execution_count": 12,
   "metadata": {},
   "outputs": [
    {
     "name": "stdout",
     "output_type": "stream",
     "text": [
      "1\n",
      "2\n",
      "1\n",
      "5\n",
      "APPLE\n",
      "A\n",
      "    apple    \n",
      "APPLE\n",
      "my name is gazero\n",
      "['my', 'name', 'is', 'gayoung']\n"
     ]
    }
   ],
   "source": [
    "# 문자열 함수\n",
    "\n",
    "word = 'apple'\n",
    "# 단어의 제일 먼저 발견된 인덱스의 번호\n",
    "print(word.find('p'))\n",
    "# 해당 단어가 몇개 있는지\n",
    "print(word.count('p'))\n",
    "# 단어의 제일 먼저 발견된 인덱스의 번호\n",
    "print(word.index('p'))\n",
    "# 단어의 길이\n",
    "print(len(word))\n",
    "# 대문자로 고쳐줘\n",
    "print(word.upper())\n",
    "# 0번째 인덱스를 대문자로 바꿔라\n",
    "print(word[0].upper())\n",
    "\n",
    "word ='    APPLE    '\n",
    "# 소문자로 바꿔라\n",
    "print(word.lower())\n",
    "# 공백삭제\n",
    "print(word.strip())\n",
    "# gqyoung을 gqzero로 바꿔라\n",
    "word = 'my name is gayoung'\n",
    "print(word.replace('gayoung', 'gazero'))\n",
    "\n",
    "# 문자열을 단어 단위로 쪼개서 보여줘\n",
    "print(word.split())"
   ]
  },
  {
   "cell_type": "code",
   "execution_count": null,
   "metadata": {},
   "outputs": [],
   "source": []
  }
 ],
 "metadata": {
  "kernelspec": {
   "display_name": "Python 3",
   "language": "python",
   "name": "python3"
  },
  "language_info": {
   "codemirror_mode": {
    "name": "ipython",
    "version": 3
   },
   "file_extension": ".py",
   "mimetype": "text/x-python",
   "name": "python",
   "nbconvert_exporter": "python",
   "pygments_lexer": "ipython3",
   "version": "3.11.4"
  },
  "orig_nbformat": 4
 },
 "nbformat": 4,
 "nbformat_minor": 2
}
