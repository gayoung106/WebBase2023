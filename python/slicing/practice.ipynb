{
 "cells": [
  {
   "cell_type": "code",
   "execution_count": 5,
   "metadata": {},
   "outputs": [
    {
     "name": "stdout",
     "output_type": "stream",
     "text": [
      "hello\n",
      "bye\n",
      "python's friends\n",
      "합쳐서:\n",
      "hello\n",
      "bye\n",
      "phython's friends\n"
     ]
    }
   ],
   "source": [
    "# 문자열 표현\n",
    "sentence = \"hello\"\n",
    "print(sentence)\n",
    "\n",
    "sentence = \"bye\" # 재할당\n",
    "print(sentence)\n",
    "\n",
    "sentence = \"python\\'s friends\" # 's 를 쓰고 싶으면 백슬래시(\\)하고 써주면 됨\n",
    "print(sentence)\n",
    "\n",
    "# 합쳐서 쓰는 것도 가능 '''여기에다 내용쓰기'''\n",
    "sentence = '''합쳐서: \n",
    "hello\n",
    "bye\n",
    "phython\\'s friends'''\n",
    "print(sentence)\n"
   ]
  },
  {
   "cell_type": "code",
   "execution_count": 18,
   "metadata": {},
   "outputs": [
    {
     "name": "stdout",
     "output_type": "stream",
     "text": [
      "p\n",
      "h\n",
      "n\n",
      "20\n",
      "2021\n",
      "-python\n",
      "1357\n",
      "25\n"
     ]
    }
   ],
   "source": [
    "# 인덱싱\n",
    "word = \"python\"\n",
    "print(word[0])\n",
    "print(word[3])\n",
    "print(word[-1])\n",
    "\n",
    "word = \"2021-python\"\n",
    "#슬라이싱\n",
    "print(word[0:2]) # 0부터 2번째자리 '미만'까지\n",
    "print(word[:4]) # 비워두면 0이 기본값\n",
    "print(word[4:]) # 4번째 자리 이상\n",
    "\n",
    "# [이상:미만:간격]\n",
    "word =\"1234567\"\n",
    "print(word[::2]) # 간격\n",
    "print(word[1:6:3]) # 1번째 부터 6번째 미만까지 3개씩 띄워서 출력"
   ]
  },
  {
   "cell_type": "code",
   "execution_count": 23,
   "metadata": {},
   "outputs": [
    {
     "name": "stdout",
     "output_type": "stream",
     "text": [
      "파이썬은 99.5kg 입니다\n",
      "파이썬은 99.5kg 입니다\n"
     ]
    }
   ],
   "source": [
    "# 포맷\n",
    "a = \"파이썬은 99.5kg 입니다\"\n",
    "name = \"파이썬\"\n",
    "weight = 99.5\n",
    "print ( name + \"은 \" + str(weight) + \"kg 입니다\")\n",
    "print (\"%s은 %0.1fkg 입니다\"%(name,weight))"
   ]
  },
  {
   "cell_type": "code",
   "execution_count": null,
   "metadata": {},
   "outputs": [],
   "source": []
  }
 ],
 "metadata": {
  "kernelspec": {
   "display_name": "Python 3",
   "language": "python",
   "name": "python3"
  },
  "language_info": {
   "codemirror_mode": {
    "name": "ipython",
    "version": 3
   },
   "file_extension": ".py",
   "mimetype": "text/x-python",
   "name": "python",
   "nbconvert_exporter": "python",
   "pygments_lexer": "ipython3",
   "version": "3.11.4"
  },
  "orig_nbformat": 4
 },
 "nbformat": 4,
 "nbformat_minor": 2
}
