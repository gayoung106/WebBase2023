{
 "cells": [
  {
   "cell_type": "code",
   "execution_count": 2,
   "metadata": {},
   "outputs": [
    {
     "name": "stdout",
     "output_type": "stream",
     "text": [
      "{'a': 1, 'b': 2, 'c': 3}\n",
      "1\n"
     ]
    }
   ],
   "source": [
    "# dictionary 사전\n",
    "dic = {'a':1 , 'b':2, \"c\":3}\n",
    "print(dic)\n",
    "\n",
    "print(dic['a']) # key 값이 불려나옴\n"
   ]
  },
  {
   "cell_type": "code",
   "execution_count": 7,
   "metadata": {},
   "outputs": [
    {
     "name": "stdout",
     "output_type": "stream",
     "text": [
      "{'a': 1, 'b': 2, 'c': 3, 'f': 5}\n",
      "{'a': 1, 'b': 2, 'c': 3}\n"
     ]
    }
   ],
   "source": [
    "# update\n",
    "dic.update({'f':5})\n",
    "print(dic)\n",
    "\n",
    "# del 삭제\n",
    "del dic['f']\n",
    "print(dic)\n",
    "\n"
   ]
  },
  {
   "cell_type": "code",
   "execution_count": 10,
   "metadata": {},
   "outputs": [
    {
     "name": "stdout",
     "output_type": "stream",
     "text": [
      "{'a': None, 'b': None, 'c': None, 'd': None}\n",
      "{'a': 1, 'b': 1, 'c': 1, 'd': 1}\n",
      "{1: None, 2: None, 3: None, 4: None}\n",
      "{1: 1, 2: 1, 3: 1, 4: 1}\n"
     ]
    }
   ],
   "source": [
    "# fromkeys\n",
    "list1=['a', 'b', 'c', 'd']\n",
    "tuple1 = 1,2,3,4\n",
    "dic1 ={}.fromkeys(list1)\n",
    "dic2 ={}.fromkeys(list1,1)\n",
    "dic3 ={}.fromkeys(tuple1)\n",
    "dic4 ={}.fromkeys(tuple1, 1)\n",
    "\n",
    "print(dic1) # {'a': None, 'b': None, 'c': None, 'd': None}\n",
    "print(dic2) # {'a': 1, 'b': 1, 'c': 1, 'd': 1}\n",
    "print(dic3) # {1: None, 2: None, 3: None, 4: None}\n",
    "print(dic4) # {1: 1, 2: 1, 3: 1, 4: 1}\n"
   ]
  },
  {
   "cell_type": "code",
   "execution_count": 21,
   "metadata": {},
   "outputs": [
    {
     "name": "stdout",
     "output_type": "stream",
     "text": [
      "dict_keys(['a', 'b', 'c'])\n",
      "dict_values([1, 2, 3])\n",
      "dict_items([('a', 1), ('b', 2), ('c', 3)])\n",
      "1\n",
      "None\n",
      "값이 존재하지 않습니다.\n",
      "1\n",
      "{'b': 2, 'c': 3}\n",
      "('c', 3)\n",
      "{'b': 2}\n"
     ]
    }
   ],
   "source": [
    "# keys / values / items / get\n",
    "dic5 = {'a':1, 'b':2, 'c':3}\n",
    "print(dic5.keys())\n",
    "print(dic5.values())\n",
    "print(dic5.items()) # 키와 값을 튜플형식으로 반환\n",
    "print(dic5.get('a')) ## 1\n",
    "print(dic5.get('f')) ## none\n",
    "print(dic5.get('f', \"값이 존재하지 않습니다.\"))\n",
    "\n",
    "# pop/popitems\n",
    "\n",
    "print(dic5.pop('a')) # 1\n",
    "print(dic5) # a가 삭제됨 ## {'b': 2, 'c': 3}\n",
    "print(dic5.popitem()) # 맨마지막 키 밸류만 튜플로 보여주고  ## ('c', 3)\n",
    "print(dic5) ## {'b': 2}\n"
   ]
  },
  {
   "cell_type": "code",
   "execution_count": null,
   "metadata": {},
   "outputs": [],
   "source": []
  }
 ],
 "metadata": {
  "kernelspec": {
   "display_name": "Python 3",
   "language": "python",
   "name": "python3"
  },
  "language_info": {
   "codemirror_mode": {
    "name": "ipython",
    "version": 3
   },
   "file_extension": ".py",
   "mimetype": "text/x-python",
   "name": "python",
   "nbconvert_exporter": "python",
   "pygments_lexer": "ipython3",
   "version": "3.11.4"
  },
  "orig_nbformat": 4
 },
 "nbformat": 4,
 "nbformat_minor": 2
}
