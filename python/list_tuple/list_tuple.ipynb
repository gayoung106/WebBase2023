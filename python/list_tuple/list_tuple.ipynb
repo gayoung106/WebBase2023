{
 "cells": [
  {
   "cell_type": "code",
   "execution_count": 2,
   "metadata": {},
   "outputs": [
    {
     "name": "stdout",
     "output_type": "stream",
     "text": [
      "[1, 2, 3, 4, 5]\n",
      "1\n",
      "6\n"
     ]
    }
   ],
   "source": [
    "# 리스트\n",
    "list1 = [1,2,3,4,5]\n",
    "print(list1)\n",
    "print(list1[0])\n",
    "print(list1[1] + list1[3])"
   ]
  },
  {
   "cell_type": "code",
   "execution_count": 3,
   "metadata": {},
   "outputs": [
    {
     "name": "stdout",
     "output_type": "stream",
     "text": [
      "[1]\n",
      "[1, 3]\n"
     ]
    }
   ],
   "source": [
    "# 리스트 슬라이싱\n",
    "list2 = [1,2,3,4,5]\n",
    "print(list2[0:1])\n",
    "print(list2[0:4:2])\n"
   ]
  },
  {
   "cell_type": "code",
   "execution_count": 6,
   "metadata": {},
   "outputs": [
    {
     "name": "stdout",
     "output_type": "stream",
     "text": [
      "5\n",
      "[1, 2, 3, 4, 5, 1, 2, 3, 4, 5]\n",
      "[1, 2, 3, 4, 5, 1, 2, 3, 4, 5]\n"
     ]
    }
   ],
   "source": [
    "# 리스트 연산과 함수\n",
    "list3 = [1,2,3,4,5]\n",
    "print(len(list3))\n",
    "print(list3 + list3)\n",
    "print(list3 * 2)"
   ]
  },
  {
   "cell_type": "code",
   "execution_count": 11,
   "metadata": {},
   "outputs": [
    {
     "name": "stdout",
     "output_type": "stream",
     "text": [
      "1\n",
      "1\n",
      "True\n",
      "True\n"
     ]
    }
   ],
   "source": [
    "# 다중리스트\n",
    "list4 = [1,2,3,4,[1,2,3,4,[1,2,3,4]]]\n",
    "print(list4[4][0])\n",
    "print(list4[4][4][0])\n",
    "\n",
    "print(1 in list4)\n",
    "print(7 not in list4)\n"
   ]
  },
  {
   "cell_type": "code",
   "execution_count": 19,
   "metadata": {},
   "outputs": [
    {
     "name": "stdout",
     "output_type": "stream",
     "text": [
      "[1, 2, 3, 4, 5, 6]\n",
      "[1, 2, 7, 3, 4, 5]\n",
      "[1, 2, 3, 4, 5, 6, 7, 8, 9, 0]\n",
      "[1, 2, 3, 4, 5, 6, 7, 8, 9, 0]\n",
      "[2, 3, 4, 5]\n",
      "[1, 2, 3, 5]\n"
     ]
    }
   ],
   "source": [
    "# 함수\n",
    "list5 = [1,2,3,4,5]\n",
    "list5.append(6)\n",
    "print(list5)\n",
    "\n",
    "list6 = [1,2,3,4,5]\n",
    "list6.insert(2, 7) # 인덱스 2번째 자리에 7을 넣어라\n",
    "print(list6)\n",
    "\n",
    "list7 = [1,2,3,4,5]\n",
    "list7.extend([6,7,8,9,0])\n",
    "print(list7)\n",
    "\n",
    "list8 = [1,2,3,4,5]\n",
    "list8 += [6,7,8,9,0]\n",
    "print(list8)\n",
    "\n",
    "#0번째 인덱스를 지워라\n",
    "list9 = [1,2,3,4,5]\n",
    "list9.pop(0)\n",
    "print(list9)\n",
    "\n",
    "#지워버려\n",
    "list10 = [1,2,3,4,5]\n",
    "list10.remove(4)\n",
    "print(list10)\n",
    "\n"
   ]
  },
  {
   "cell_type": "code",
   "execution_count": 7,
   "metadata": {},
   "outputs": [
    {
     "name": "stdout",
     "output_type": "stream",
     "text": [
      "(1, 2, 3, 4, 'a', 'b', 'c', 'd')\n",
      "('a', 'b', 'c', 'd', 'a', 'b', 'c', 'd', 'a', 'b', 'c', 'd')\n",
      "8\n",
      "1\n",
      "(1, 2, 3)\n"
     ]
    }
   ],
   "source": [
    "# 튜플\n",
    "## 값 변경이 불가 단, 인덱싱, 슬라이싱, 더하기, 곱하기 가능\n",
    "\n",
    "tuple1 = 1,2,3,4\n",
    "tuple2 = ('a', 'b', 'c', 'd')\n",
    "\n",
    "# 튜플 더하고 곱하기\n",
    "new_tuple = tuple1 + tuple2\n",
    "print(new_tuple) ## (1, 2, 3, 4, 'a', 'b', 'c', 'd')\n",
    "print(tuple2 * 3)\n",
    "print(len(new_tuple))\n",
    "print(new_tuple[0])\n",
    "print(new_tuple[:3]) ## 0인덱스 부터 3인덱스 '미만'\n"
   ]
  },
  {
   "cell_type": "code",
   "execution_count": 9,
   "metadata": {},
   "outputs": [
    {
     "name": "stdout",
     "output_type": "stream",
     "text": [
      "{'e', 'l', 'n', ' ', 'h', 'o'}\n",
      "['e', 'l', 'n', ' ', 'h', 'o']\n"
     ]
    }
   ],
   "source": [
    "# 집합자료형\n",
    "## set이라는 것을 사용\n",
    "## set은 동일한 값을 하나로 취급\n",
    "## = 중복된 값\n",
    "set1 = set('hello hellen')\n",
    "print(set1) # 'e', 'l', 'n', ' ', 'h', 'o'} 중복은 취급하지 않음 (공백도 가져옴)\n",
    "list1 = list(set1)\n",
    "print(list1) # ['e', 'l', 'n', ' ', 'h', 'o'] 리스트로 변환가능"
   ]
  },
  {
   "cell_type": "code",
   "execution_count": 13,
   "metadata": {},
   "outputs": [
    {
     "name": "stdout",
     "output_type": "stream",
     "text": [
      "{1, 2, 3, 4, 5, 6}\n",
      "{1, 2, 3, 4, 5, 6}\n",
      "{1, 2}\n",
      "{1, 2}\n",
      "{3, 4}\n",
      "{3, 4}\n"
     ]
    }
   ],
   "source": [
    "# 교집합 / 합집합/ 차집합\n",
    "set2 = set([1,2,3,4])\n",
    "set3 = set([3,4,5,6])\n",
    "\n",
    "# 합집합 {1, 2, 3, 4, 5, 6}\n",
    "print(set2 | set3) \n",
    "print(set2.union(set3))\n",
    "\n",
    "# 차집합 {1, 2}\n",
    "print(set2 - set3)\n",
    "print(set2.difference(set3))\n",
    "\n",
    "# 교집합 {3, 4}\n",
    "print(set2 & set3)\n",
    "print(set2.intersection(set3))\n"
   ]
  },
  {
   "cell_type": "code",
   "execution_count": 16,
   "metadata": {},
   "outputs": [
    {
     "name": "stdout",
     "output_type": "stream",
     "text": [
      "{1, 2, 3, 4, 5}\n",
      "{1, 2, 3, 4, 5, 6}\n",
      "{1, 2, 3, 4}\n"
     ]
    }
   ],
   "source": [
    "# 집합 자료형 함수\n",
    "set2.add(5)\n",
    "print(set2)\n",
    "\n",
    "set3.update([1,2])\n",
    "print(set3)\n",
    "\n",
    "set2.remove(5)\n",
    "print(set2)"
   ]
  },
  {
   "cell_type": "code",
   "execution_count": null,
   "metadata": {},
   "outputs": [],
   "source": []
  }
 ],
 "metadata": {
  "kernelspec": {
   "display_name": "Python 3",
   "language": "python",
   "name": "python3"
  },
  "language_info": {
   "codemirror_mode": {
    "name": "ipython",
    "version": 3
   },
   "file_extension": ".py",
   "mimetype": "text/x-python",
   "name": "python",
   "nbconvert_exporter": "python",
   "pygments_lexer": "ipython3",
   "version": "3.11.4"
  },
  "orig_nbformat": 4
 },
 "nbformat": 4,
 "nbformat_minor": 2
}
