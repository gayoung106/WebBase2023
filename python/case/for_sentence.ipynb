{
 "cells": [
  {
   "cell_type": "code",
   "execution_count": 3,
   "metadata": {},
   "outputs": [
    {
     "name": "stdout",
     "output_type": "stream",
     "text": [
      "1\n",
      "2\n",
      "3\n",
      "4\n",
      "101호가 배정 되었습니다.\n",
      "102호가 배정 되었습니다.\n",
      "103호가 배정 되었습니다.\n",
      "104호가 배정 되었습니다.\n",
      "105호가 배정 되었습니다.\n",
      "201호가 배정 되었습니다.\n",
      "202호가 배정 되었습니다.\n",
      "203호가 배정 되었습니다.\n",
      "204호가 배정 되었습니다.\n",
      "205호가 배정 되었습니다.\n"
     ]
    }
   ],
   "source": [
    "# for 기본형식\n",
    "'''\n",
    "for 변수 in 리스트, 튜플, 문자열 :\n",
    "    실행명령문\n",
    "'''\n",
    "for i in [1,2,3,4]:\n",
    "    print(i)\n",
    "\n",
    "room = [101, 102, 103, 104, 105, 201, 202, 203, 204, 205]\n",
    "for i in room :\n",
    "    print(\"{}호가 배정 되었습니다.\".format(i))"
   ]
  },
  {
   "cell_type": "code",
   "execution_count": 5,
   "metadata": {},
   "outputs": [
    {
     "name": "stdout",
     "output_type": "stream",
     "text": [
      "100호가 배정되었습니다.\n",
      "101호가 배정되었습니다.\n",
      "102호가 배정되었습니다.\n",
      "103호가 배정되었습니다.\n",
      "104호가 배정되었습니다.\n",
      "105호가 배정되었습니다.\n",
      "106호가 배정되었습니다.\n",
      "107호가 배정되었습니다.\n",
      "108호가 배정되었습니다.\n",
      "109호가 배정되었습니다.\n",
      "110호가 배정되었습니다.\n",
      "\n",
      "\n",
      "100호가 배정되었습니다.\n",
      "102호가 배정되었습니다.\n",
      "104호가 배정되었습니다.\n",
      "106호가 배정되었습니다.\n",
      "108호가 배정되었습니다.\n",
      "110호가 배정되었습니다.\n"
     ]
    }
   ],
   "source": [
    "# for range\n",
    "for room in range(100,111) : ## 100이상 111미만(100-110)\n",
    "    print(\"%d호가 배정되었습니다.\"%room)\n",
    "\n",
    "print(\"\\n\")\n",
    "for room in range(100,111,2) : ## 2씩 간격을 두고\n",
    "    print(\"%d호가 배정되었습니다.\"%room)\n"
   ]
  },
  {
   "cell_type": "code",
   "execution_count": 6,
   "metadata": {},
   "outputs": [
    {
     "name": "stdout",
     "output_type": "stream",
     "text": [
      "1번 시험자는 합격입니다. 축하합니다.\n",
      "2번 시험자는 불합격 입니다.\n",
      "3번 시험자는 합격입니다. 축하합니다.\n",
      "4번 시험자는 합격입니다. 축하합니다.\n",
      "5번 시험자는 100점으로 합격하였습니다. 장학생 대상자 입니다.\n",
      "6번 시험자는 불합격 입니다.\n"
     ]
    }
   ],
   "source": [
    "# for if\n",
    "score = [90, 20, 60, 70, 100, 40]\n",
    "num = 0\n",
    "for sco in score :\n",
    "    num += 1\n",
    "    if sco == 100 :\n",
    "        print(\"{}번 시험자는 100점으로 합격하였습니다. 장학생 대상자 입니다.\".format(num))\n",
    "    elif sco >= 60 :\n",
    "        print(\"{}번 시험자는 합격입니다. 축하합니다.\".format(num))\n",
    "    else :\n",
    "        print(\"{}번 시험자는 불합격 입니다.\".format(num))"
   ]
  },
  {
   "cell_type": "code",
   "execution_count": 7,
   "metadata": {},
   "outputs": [
    {
     "name": "stdout",
     "output_type": "stream",
     "text": [
      " i:1, j:1\n",
      " i:1, j:2\n",
      " i:1, j:3\n",
      " i:1, j:4\n",
      " i:2, j:1\n",
      " i:2, j:2\n",
      " i:2, j:3\n",
      " i:2, j:4\n",
      " i:3, j:1\n",
      " i:3, j:2\n",
      " i:3, j:3\n",
      " i:3, j:4\n",
      " i:4, j:1\n",
      " i:4, j:2\n",
      " i:4, j:3\n",
      " i:4, j:4\n"
     ]
    }
   ],
   "source": [
    "# 이중 포문\n",
    "\n",
    "for i in range(1,5) :\n",
    "    for j in range(1,5) :\n",
    "        print(\" i:{}, j:{}\".format(i,j))\n"
   ]
  },
  {
   "cell_type": "code",
   "execution_count": 9,
   "metadata": {},
   "outputs": [
    {
     "name": "stdout",
     "output_type": "stream",
     "text": [
      " 1 * 1 = 1 \n",
      " 1 * 2 = 2 \n",
      " 1 * 3 = 3 \n",
      " 1 * 4 = 4 \n",
      " 1 * 5 = 5 \n",
      " 1 * 6 = 6 \n",
      " 1 * 7 = 7 \n",
      " 1 * 8 = 8 \n",
      " 1 * 9 = 9 \n",
      " 2 * 1 = 2 \n",
      " 2 * 2 = 4 \n",
      " 2 * 3 = 6 \n",
      " 2 * 4 = 8 \n",
      " 2 * 5 = 10 \n",
      " 2 * 6 = 12 \n",
      " 2 * 7 = 14 \n",
      " 2 * 8 = 16 \n",
      " 2 * 9 = 18 \n",
      " 3 * 1 = 3 \n",
      " 3 * 2 = 6 \n",
      " 3 * 3 = 9 \n",
      " 3 * 4 = 12 \n",
      " 3 * 5 = 15 \n",
      " 3 * 6 = 18 \n",
      " 3 * 7 = 21 \n",
      " 3 * 8 = 24 \n",
      " 3 * 9 = 27 \n",
      " 4 * 1 = 4 \n",
      " 4 * 2 = 8 \n",
      " 4 * 3 = 12 \n",
      " 4 * 4 = 16 \n",
      " 4 * 5 = 20 \n",
      " 4 * 6 = 24 \n",
      " 4 * 7 = 28 \n",
      " 4 * 8 = 32 \n",
      " 4 * 9 = 36 \n",
      " 5 * 1 = 5 \n",
      " 5 * 2 = 10 \n",
      " 5 * 3 = 15 \n",
      " 5 * 4 = 20 \n",
      " 5 * 5 = 25 \n",
      " 5 * 6 = 30 \n",
      " 5 * 7 = 35 \n",
      " 5 * 8 = 40 \n",
      " 5 * 9 = 45 \n",
      " 6 * 1 = 6 \n",
      " 6 * 2 = 12 \n",
      " 6 * 3 = 18 \n",
      " 6 * 4 = 24 \n",
      " 6 * 5 = 30 \n",
      " 6 * 6 = 36 \n",
      " 6 * 7 = 42 \n",
      " 6 * 8 = 48 \n",
      " 6 * 9 = 54 \n",
      " 7 * 1 = 7 \n",
      " 7 * 2 = 14 \n",
      " 7 * 3 = 21 \n",
      " 7 * 4 = 28 \n",
      " 7 * 5 = 35 \n",
      " 7 * 6 = 42 \n",
      " 7 * 7 = 49 \n",
      " 7 * 8 = 56 \n",
      " 7 * 9 = 63 \n",
      " 8 * 1 = 8 \n",
      " 8 * 2 = 16 \n",
      " 8 * 3 = 24 \n",
      " 8 * 4 = 32 \n",
      " 8 * 5 = 40 \n",
      " 8 * 6 = 48 \n",
      " 8 * 7 = 56 \n",
      " 8 * 8 = 64 \n",
      " 8 * 9 = 72 \n",
      " 9 * 1 = 9 \n",
      " 9 * 2 = 18 \n",
      " 9 * 3 = 27 \n",
      " 9 * 4 = 36 \n",
      " 9 * 5 = 45 \n",
      " 9 * 6 = 54 \n",
      " 9 * 7 = 63 \n",
      " 9 * 8 = 72 \n",
      " 9 * 9 = 81 \n"
     ]
    }
   ],
   "source": [
    "# 구구단\n",
    "for i in range(1,10) :\n",
    "    for j in range(1,10):\n",
    "        print(\" {} * {} = {} \".format(i,j, i*j))"
   ]
  },
  {
   "cell_type": "code",
   "execution_count": null,
   "metadata": {},
   "outputs": [],
   "source": []
  }
 ],
 "metadata": {
  "kernelspec": {
   "display_name": "Python 3",
   "language": "python",
   "name": "python3"
  },
  "language_info": {
   "codemirror_mode": {
    "name": "ipython",
    "version": 3
   },
   "file_extension": ".py",
   "mimetype": "text/x-python",
   "name": "python",
   "nbconvert_exporter": "python",
   "pygments_lexer": "ipython3",
   "version": "3.11.4"
  },
  "orig_nbformat": 4
 },
 "nbformat": 4,
 "nbformat_minor": 2
}
