{
 "cells": [
  {
   "cell_type": "code",
   "execution_count": 5,
   "metadata": {},
   "outputs": [
    {
     "name": "stdout",
     "output_type": "stream",
     "text": [
      "오전에만 일하자\n"
     ]
    }
   ],
   "source": [
    "# if문\n",
    "day = \"금요일\"\n",
    "if day == \"공휴일\":\n",
    "    \n",
    "    print(\"출근 안해\")\n",
    "elif day == \"금요일\":\n",
    "    print(\"오전에만 일하자\")\n",
    "else :\n",
    "    print(\"출근해\")\n",
    "  "
   ]
  },
  {
   "cell_type": "code",
   "execution_count": null,
   "metadata": {},
   "outputs": [],
   "source": [
    "# if 기본 유형\n",
    "''' \n",
    "if 조건문:\n",
    "    실행명령문\n",
    "elif 조건문:\n",
    "    실행명령문\n",
    "else :\n",
    "    실행명령문\n",
    "    '''"
   ]
  },
  {
   "cell_type": "code",
   "execution_count": null,
   "metadata": {},
   "outputs": [],
   "source": []
  }
 ],
 "metadata": {
  "kernelspec": {
   "display_name": "Python 3",
   "language": "python",
   "name": "python3"
  },
  "language_info": {
   "codemirror_mode": {
    "name": "ipython",
    "version": 3
   },
   "file_extension": ".py",
   "mimetype": "text/x-python",
   "name": "python",
   "nbconvert_exporter": "python",
   "pygments_lexer": "ipython3",
   "version": "3.11.4"
  },
  "orig_nbformat": 4
 },
 "nbformat": 4,
 "nbformat_minor": 2
}
