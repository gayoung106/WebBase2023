{
 "cells": [
  {
   "cell_type": "code",
   "execution_count": null,
   "metadata": {},
   "outputs": [],
   "source": [
    "# while문 기본 형식\n",
    "'''\n",
    "while 조건문 :\n",
    "    수행할 문장\n",
    "    수행할 문장\n",
    "    수행할 문장\n",
    "    수행할 문장\n",
    "    수행할 문장\n",
    "'''"
   ]
  },
  {
   "cell_type": "code",
   "execution_count": 2,
   "metadata": {},
   "outputs": [
    {
     "name": "stdout",
     "output_type": "stream",
     "text": [
      "1번 손님 입장해주세요.\n",
      "2번 손님 입장해주세요.\n",
      "3번 손님 입장해주세요.\n",
      "4번 손님 입장해주세요.\n",
      "5번 손님 입장해주세요.\n",
      "7번 손님 입장해주세요.\n",
      "8번 손님 입장해주세요.\n",
      "9번 손님 입장해주세요.\n",
      "10번 손님 입장해주세요.\n",
      "11번 손님 입장해주세요.\n",
      "12번 손님 입장해주세요.\n",
      "13번 손님 입장해주세요.\n",
      "14번 손님 입장해주세요.\n",
      "15번 손님 입장해주세요.\n",
      "16번 손님 입장해주세요.\n",
      "18번 손님 입장해주세요.\n",
      "19번 손님 입장해주세요.\n",
      "21번 손님 입장해주세요.\n",
      "22번 손님 입장해주세요.\n",
      "23번 손님 입장해주세요.\n",
      "24번 손님 입장해주세요.\n",
      "25번 손님 입장해주세요.\n",
      "26번 손님 입장해주세요.\n",
      "27번 손님 입장해주세요.\n",
      "28번 손님 입장해주세요.\n",
      "29번 손님 입장해주세요.\n"
     ]
    }
   ],
   "source": [
    "num = 0\n",
    "leave = [6,17,20,30]\n",
    "while num < 30 :\n",
    "    num += 1\n",
    "    if num in leave :\n",
    "        continue ## continue하면 아래로 안가고 다시 while문 \n",
    "                 ## 그래서 조건에 맞으면 print안찍고 다시 while문 올라가서 돌게됨\n",
    "    print(\"{}번 손님 입장해주세요.\".format(num))"
   ]
  },
  {
   "cell_type": "code",
   "execution_count": 3,
   "metadata": {},
   "outputs": [
    {
     "name": "stdout",
     "output_type": "stream",
     "text": [
      "1번 손님 입장해주세요.\n",
      "2번 손님 입장해주세요.\n",
      "3번 손님 입장해주세요.\n",
      "4번 손님 입장해주세요.\n",
      "5번 손님 입장해주세요.\n",
      "7번 손님 입장해주세요.\n",
      "8번 손님 입장해주세요.\n",
      "9번 손님 입장해주세요.\n",
      "10번 손님 입장해주세요.\n",
      "11번 손님 입장해주세요.\n",
      "12번 손님 입장해주세요.\n",
      "13번 손님 입장해주세요.\n",
      "14번 손님 입장해주세요.\n",
      "15번 손님 입장해주세요.\n",
      "16번 손님 입장해주세요.\n",
      "죄송합니다. 재료가 모두 소진되었습니다.\n"
     ]
    }
   ],
   "source": [
    "num = 0\n",
    "leave = [6,17,20,30]\n",
    "while num < 30 :\n",
    "    num += 1\n",
    "    if num in leave :\n",
    "        continue ## continue하면 아래로 안가고 다시 while문 \n",
    "                 ## 그래서 조건에 맞으면 print안찍고 다시 while문 올라가서 돌게됨\n",
    "    elif num == 18 :\n",
    "        print(\"죄송합니다. 재료가 모두 소진되었습니다.\")\n",
    "        break\n",
    "    print(\"{}번 손님 입장해주세요.\".format(num))"
   ]
  },
  {
   "cell_type": "code",
   "execution_count": null,
   "metadata": {},
   "outputs": [],
   "source": []
  }
 ],
 "metadata": {
  "kernelspec": {
   "display_name": "Python 3",
   "language": "python",
   "name": "python3"
  },
  "language_info": {
   "codemirror_mode": {
    "name": "ipython",
    "version": 3
   },
   "file_extension": ".py",
   "mimetype": "text/x-python",
   "name": "python",
   "nbconvert_exporter": "python",
   "pygments_lexer": "ipython3",
   "version": "3.11.4"
  },
  "orig_nbformat": 4
 },
 "nbformat": 4,
 "nbformat_minor": 2
}
