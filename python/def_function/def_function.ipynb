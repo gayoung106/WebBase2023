{
 "cells": [
  {
   "cell_type": "code",
   "execution_count": 1,
   "metadata": {},
   "outputs": [
    {
     "name": "stdout",
     "output_type": "stream",
     "text": [
      "3\n"
     ]
    }
   ],
   "source": [
    "# 함수\n",
    "\n",
    "def sum (a,b) :\n",
    "    result = a+b\n",
    "    return result\n",
    "\n",
    "print(sum(1,2))"
   ]
  },
  {
   "cell_type": "code",
   "execution_count": 2,
   "metadata": {},
   "outputs": [
    {
     "name": "stdout",
     "output_type": "stream",
     "text": [
      "에피노님의 계좌가 개설되었습니다.\n"
     ]
    }
   ],
   "source": [
    "# 결과값이 없을 수도 있다. return이 없이\n",
    "\n",
    "def bank_open(name) :\n",
    "    print(\"%s님의 계좌가 개설되었습니다.\"%name)\n",
    "\n",
    "bank_open(\"에피노\")"
   ]
  },
  {
   "cell_type": "code",
   "execution_count": 3,
   "metadata": {},
   "outputs": [
    {
     "name": "stdout",
     "output_type": "stream",
     "text": [
      "안녕하세요. 에피노뱅크입니다.\n"
     ]
    }
   ],
   "source": [
    "# 입력값이 없는 함수\n",
    "\n",
    "def hello_bank() :\n",
    "    print(\"안녕하세요. 에피노뱅크입니다.\")\n",
    "\n",
    "hello_bank()"
   ]
  },
  {
   "cell_type": "code",
   "execution_count": 6,
   "metadata": {},
   "outputs": [
    {
     "name": "stdout",
     "output_type": "stream",
     "text": [
      "에피노님의 계좌가 개설되었습니다.\n",
      "에피노님의 계좌번호는 010-1111-1111입니다.\n"
     ]
    }
   ],
   "source": [
    "# 초기값도 미리 설정할 수 있음\n",
    "\n",
    "def bank_open2(name, bank_num, open =True):\n",
    "    if open == True:\n",
    "        print(\"%s님의 계좌가 개설되었습니다.\" %name)\n",
    "        print(\"%s님의 계좌번호는 %s입니다.\"%(name, bank_num))\n",
    "    else :\n",
    "        print(\"%s님의 계좌 개설이 거부되었습니다.\"%name)\n",
    "\n",
    "bank_open2(\"에피노\", \"010-1111-1111\")"
   ]
  },
  {
   "cell_type": "code",
   "execution_count": 10,
   "metadata": {},
   "outputs": [
    {
     "name": "stdout",
     "output_type": "stream",
     "text": [
      "3\n",
      "3\n",
      "3\n"
     ]
    }
   ],
   "source": [
    "# lambda 함수\n",
    "def add (a,b):\n",
    "    return a+b\n",
    "\n",
    "print(add(1,2))\n",
    "\n",
    "add = lambda a,b : a+b # 함수와 비슷함\n",
    "print(add(1,2))\n",
    "\n",
    "list1 = [lambda a,b : a+b, lambda a,b: a/b] # list에 추가가 가능/ def는 list에 추가 불가함\n",
    "print(list1[0](2,1))"
   ]
  },
  {
   "cell_type": "code",
   "execution_count": null,
   "metadata": {},
   "outputs": [],
   "source": []
  }
 ],
 "metadata": {
  "kernelspec": {
   "display_name": "Python 3",
   "language": "python",
   "name": "python3"
  },
  "language_info": {
   "codemirror_mode": {
    "name": "ipython",
    "version": 3
   },
   "file_extension": ".py",
   "mimetype": "text/x-python",
   "name": "python",
   "nbconvert_exporter": "python",
   "pygments_lexer": "ipython3",
   "version": "3.11.4"
  },
  "orig_nbformat": 4
 },
 "nbformat": 4,
 "nbformat_minor": 2
}
