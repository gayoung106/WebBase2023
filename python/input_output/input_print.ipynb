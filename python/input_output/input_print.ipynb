{
 "cells": [
  {
   "cell_type": "code",
   "execution_count": 3,
   "metadata": {},
   "outputs": [
    {
     "name": "stdout",
     "output_type": "stream",
     "text": [
      "a의 값은: \n",
      "<class 'str'>\n"
     ]
    }
   ],
   "source": [
    "# input\n",
    "a = input(\"정수 입력: \")\n",
    "print(\"a의 값은: {}\".format(a))\n",
    "print(type(a))"
   ]
  },
  {
   "cell_type": "code",
   "execution_count": 4,
   "metadata": {},
   "outputs": [
    {
     "name": "stdout",
     "output_type": "stream",
     "text": [
      "['1', '2', '3', '4', '5']\n"
     ]
    }
   ],
   "source": [
    "# 리스트 만들어보기\n",
    "input_list =[]\n",
    "\n",
    "for i in range(1,6):\n",
    "    i += 1\n",
    "    val = input(\"정수 입력: \")\n",
    "    input_list.append(val)\n",
    "\n",
    "print(input_list)"
   ]
  },
  {
   "cell_type": "code",
   "execution_count": 5,
   "metadata": {},
   "outputs": [
    {
     "name": "stdout",
     "output_type": "stream",
     "text": [
      "택배를 찾아가시려면 비밀번호를 입력해주세요\n",
      "비밀번호가 틀렸습니다. 다시 입력해주세요.\n",
      "택배를 찾아가시려면 비밀번호를 입력해주세요\n",
      "비밀번호가 틀렸습니다. 다시 입력해주세요.\n",
      "택배를 찾아가시려면 비밀번호를 입력해주세요\n",
      "비밀번호가 틀렸습니다. 다시 입력해주세요.\n",
      "택배를 찾아가시려면 비밀번호를 입력해주세요\n",
      "보관함의 문이 열렸습니다. 택배를 가져가주세요.\n"
     ]
    }
   ],
   "source": [
    "# input과 while문 사용해보기\n",
    "\n",
    "password = \"0322\"\n",
    "\n",
    "while True :\n",
    "    print(\"택배를 찾아가시려면 비밀번호를 입력해주세요\")\n",
    "    input_pass = input(\"비밀번호 입력: \")\n",
    "    if input_pass == password :\n",
    "        print(\"보관함의 문이 열렸습니다. 택배를 가져가주세요.\")\n",
    "        break\n",
    "    elif input_pass != password :\n",
    "        print(\"비밀번호가 틀렸습니다. 다시 입력해주세요.\")\n",
    "        continue"
   ]
  },
  {
   "cell_type": "code",
   "execution_count": null,
   "metadata": {},
   "outputs": [],
   "source": []
  }
 ],
 "metadata": {
  "kernelspec": {
   "display_name": "Python 3",
   "language": "python",
   "name": "python3"
  },
  "language_info": {
   "codemirror_mode": {
    "name": "ipython",
    "version": 3
   },
   "file_extension": ".py",
   "mimetype": "text/x-python",
   "name": "python",
   "nbconvert_exporter": "python",
   "pygments_lexer": "ipython3",
   "version": "3.11.4"
  },
  "orig_nbformat": 4
 },
 "nbformat": 4,
 "nbformat_minor": 2
}
