{
 "cells": [
  {
   "cell_type": "code",
   "execution_count": 3,
   "metadata": {},
   "outputs": [
    {
     "name": "stdout",
     "output_type": "stream",
     "text": [
      "a의 값은: \n",
      "<class 'str'>\n"
     ]
    }
   ],
   "source": [
    "# input\n",
    "a = input(\"정수 입력: \")\n",
    "print(\"a의 값은: {}\".format(a))\n",
    "print(type(a))"
   ]
  },
  {
   "cell_type": "code",
   "execution_count": 4,
   "metadata": {},
   "outputs": [
    {
     "name": "stdout",
     "output_type": "stream",
     "text": [
      "['1', '2', '3', '4', '5']\n"
     ]
    }
   ],
   "source": [
    "# 리스트 만들어보기\n",
    "input_list =[]\n",
    "\n",
    "for i in range(1,6):\n",
    "    i += 1\n",
    "    val = input(\"정수 입력: \")\n",
    "    input_list.append(val)\n",
    "\n",
    "print(input_list)"
   ]
  },
  {
   "cell_type": "code",
   "execution_count": 5,
   "metadata": {},
   "outputs": [
    {
     "name": "stdout",
     "output_type": "stream",
     "text": [
      "택배를 찾아가시려면 비밀번호를 입력해주세요\n",
      "비밀번호가 틀렸습니다. 다시 입력해주세요.\n",
      "택배를 찾아가시려면 비밀번호를 입력해주세요\n",
      "비밀번호가 틀렸습니다. 다시 입력해주세요.\n",
      "택배를 찾아가시려면 비밀번호를 입력해주세요\n",
      "비밀번호가 틀렸습니다. 다시 입력해주세요.\n",
      "택배를 찾아가시려면 비밀번호를 입력해주세요\n",
      "보관함의 문이 열렸습니다. 택배를 가져가주세요.\n"
     ]
    }
   ],
   "source": [
    "# input과 while문 사용해보기\n",
    "\n",
    "password = \"0322\"\n",
    "\n",
    "while True :\n",
    "    print(\"택배를 찾아가시려면 비밀번호를 입력해주세요\")\n",
    "    input_pass = input(\"비밀번호 입력: \")\n",
    "    if input_pass == password :\n",
    "        print(\"보관함의 문이 열렸습니다. 택배를 가져가주세요.\")\n",
    "        break\n",
    "    elif input_pass != password :\n",
    "        print(\"비밀번호가 틀렸습니다. 다시 입력해주세요.\")\n",
    "        continue"
   ]
  },
  {
   "cell_type": "code",
   "execution_count": 2,
   "metadata": {},
   "outputs": [
    {
     "name": "stdout",
     "output_type": "stream",
     "text": [
      "에피노vs자바vs파이썬\n",
      "뭐할래?\n",
      "축구vs야구vs농구?"
     ]
    }
   ],
   "source": [
    "# 다양한 입출력\n",
    "print(\"에피노\",\"자바\",\"파이썬\", sep=\"vs\") ## seperation ,사이에 추가\n",
    "print(\"뭐할래?\\n\" + \"축구\", \"야구\",\"농구\", sep=\"vs\", end=\"?\") ## 문자열 끝나는 곳에 물음표 추가\n"
   ]
  },
  {
   "cell_type": "code",
   "execution_count": 5,
   "metadata": {},
   "outputs": [
    {
     "name": "stdout",
     "output_type": "stream",
     "text": [
      "김밥 2000\n",
      "김밥   :      2000\n",
      "순대 2000\n",
      "순대   :      2000\n",
      "라면 4500\n",
      "라면   :      4500\n"
     ]
    }
   ],
   "source": [
    "# 오른쪽 정렬 / 왼쪽 정렬\n",
    "menu = {\"김밥\": 2000, \"순대\": 2000, \"라면\": 4500}\n",
    "for menu1, pay in menu.items():\n",
    "    print(menu1, pay)\n",
    "    print(menu1.ljust(5), str(pay).rjust(10), sep=\":\") #왼쪽정렬하고 10칸 띄고 / 10칸띄고 오른쪽 정렬"
   ]
  },
  {
   "cell_type": "code",
   "execution_count": 6,
   "metadata": {},
   "outputs": [
    {
     "name": "stdout",
     "output_type": "stream",
     "text": [
      "대기번호 : 00001\n",
      "대기번호 : 00002\n",
      "대기번호 : 00003\n",
      "대기번호 : 00004\n",
      "대기번호 : 00005\n",
      "대기번호 : 00006\n",
      "대기번호 : 00007\n",
      "대기번호 : 00008\n",
      "대기번호 : 00009\n",
      "대기번호 : 00010\n",
      "대기번호 : 00011\n"
     ]
    }
   ],
   "source": [
    "# zfill : zero로 채워라 \n",
    "\n",
    "num = 0\n",
    "while num <= 10 :\n",
    "    num += 1\n",
    "    print(\"대기번호 : \" + str(num).zfill(5)) \n",
    "  "
   ]
  },
  {
   "cell_type": "code",
   "execution_count": 8,
   "metadata": {},
   "outputs": [
    {
     "name": "stdout",
     "output_type": "stream",
     "text": [
      "내 월급: 2,000,000원\n",
      "내 자산: -2,000,000원\n"
     ]
    }
   ],
   "source": [
    "# 3자리마다 컴마\n",
    "\n",
    "print(\"내 월급: {0:,}원\".format(2000000))\n",
    "print(\"내 자산: {0:+,}원\".format(-2000000))"
   ]
  },
  {
   "cell_type": "code",
   "execution_count": 13,
   "metadata": {},
   "outputs": [
    {
     "name": "stdout",
     "output_type": "stream",
     "text": [
      "   10\n",
      "10   \n",
      "  +10\n",
      "  -10\n"
     ]
    }
   ],
   "source": [
    "# 정렬\n",
    "\n",
    "print(\"{0: >5}\".format(10))\n",
    "print(\"{0: <5}\".format(10))\n",
    "print(\"{0: >+5}\".format(10))\n",
    "print(\"{0: >+5}\".format(-10))"
   ]
  },
  {
   "cell_type": "code",
   "execution_count": 15,
   "metadata": {},
   "outputs": [
    {
     "name": "stdout",
     "output_type": "stream",
     "text": [
      "********10\n",
      "10********\n"
     ]
    }
   ],
   "source": [
    "# 빈칸 채우기\n",
    "\n",
    "print(\"{0:*>10}\".format(10))\n",
    "print(\"{0:*<10}\".format(10))"
   ]
  },
  {
   "cell_type": "code",
   "execution_count": null,
   "metadata": {},
   "outputs": [],
   "source": []
  }
 ],
 "metadata": {
  "kernelspec": {
   "display_name": "Python 3",
   "language": "python",
   "name": "python3"
  },
  "language_info": {
   "codemirror_mode": {
    "name": "ipython",
    "version": 3
   },
   "file_extension": ".py",
   "mimetype": "text/x-python",
   "name": "python",
   "nbconvert_exporter": "python",
   "pygments_lexer": "ipython3",
   "version": "3.11.4"
  },
  "orig_nbformat": 4
 },
 "nbformat": 4,
 "nbformat_minor": 2
}
