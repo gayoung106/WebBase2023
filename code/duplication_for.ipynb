{
 "cells": [
  {
   "cell_type": "code",
   "execution_count": 7,
   "metadata": {},
   "outputs": [
    {
     "name": "stdout",
     "output_type": "stream",
     "text": [
      "[1, 2, 3, 4, 5, 6, 7, 8, 9, 10]\n"
     ]
    }
   ],
   "source": [
    "# 중복 배열\n",
    "array = [1, 2, 2, 3, 4, 4, 5, 6, 7, 7, 8, 9, 10, 10]\n",
    "\n",
    "# 중복 제거된 배열\n",
    "none_duplication = []\n",
    "\n",
    "# 중복 제거를 위한 for in 문\n",
    "for element in array:\n",
    "    # none_duplication 있는 값으면 넘어감\n",
    "    if element in none_duplication:\n",
    "        continue\n",
    "    # none_duplication 없는 값이면 추가\n",
    "    none_duplication.append(element)\n",
    "\n",
    "\n",
    "print(none_duplication)\n"
   ]
  },
  {
   "cell_type": "code",
   "execution_count": null,
   "metadata": {},
   "outputs": [],
   "source": []
  }
 ],
 "metadata": {
  "kernelspec": {
   "display_name": "Python 3",
   "language": "python",
   "name": "python3"
  },
  "language_info": {
   "codemirror_mode": {
    "name": "ipython",
    "version": 3
   },
   "file_extension": ".py",
   "mimetype": "text/x-python",
   "name": "python",
   "nbconvert_exporter": "python",
   "pygments_lexer": "ipython3",
   "version": "3.11.4"
  },
  "orig_nbformat": 4
 },
 "nbformat": 4,
 "nbformat_minor": 2
}
