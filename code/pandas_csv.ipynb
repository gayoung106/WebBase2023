{
 "cells": [
  {
   "cell_type": "code",
   "execution_count": 48,
   "metadata": {},
   "outputs": [],
   "source": [
    "import pandas as pd\n",
    "\n"
   ]
  },
  {
   "cell_type": "code",
   "execution_count": 49,
   "metadata": {},
   "outputs": [
    {
     "name": "stdout",
     "output_type": "stream",
     "text": [
      "   Unnamed: 0     name  age  salary\n",
      "0           0    Alice   25   50000\n",
      "1           1      Bob   30   60000\n",
      "2           2  Charlie   35   70000\n",
      "3           3    james   30  400000\n",
      "4           4    Alice   25   50000\n",
      "5           5      Bob   30   60000\n",
      "6           6  Charlie   35   70000\n",
      "7           7    james   30  400000\n"
     ]
    }
   ],
   "source": [
    "## my_data.csv 불러오기\n",
    "\n",
    "csv_data = 'my_data.csv'\n",
    "df = pd.read_csv('../my_data.csv')\n",
    "\n",
    "print(df)\n"
   ]
  },
  {
   "cell_type": "code",
   "execution_count": 50,
   "metadata": {},
   "outputs": [
    {
     "name": "stdout",
     "output_type": "stream",
     "text": [
      "   delete     name  age  salary\n",
      "0       0    Alice   25   50000\n",
      "1       1      Bob   30   60000\n",
      "2       2  Charlie   35   70000\n",
      "3       3    james   30  400000\n",
      "4       4    Alice   25   50000\n",
      "5       5      Bob   30   60000\n",
      "6       6  Charlie   35   70000\n",
      "7       7    james   30  400000\n"
     ]
    }
   ],
   "source": [
    "## unnamed 칼럼명 바꾸기\n",
    "\n",
    "df.columns = ['delete', 'name', 'age', 'salary']\n",
    "\n",
    "print(df)"
   ]
  },
  {
   "cell_type": "code",
   "execution_count": 51,
   "metadata": {},
   "outputs": [
    {
     "name": "stdout",
     "output_type": "stream",
     "text": [
      "      name  age  salary\n",
      "0    Alice   25   50000\n",
      "1      Bob   30   60000\n",
      "2  Charlie   35   70000\n",
      "3    james   30  400000\n",
      "4    Alice   25   50000\n",
      "5      Bob   30   60000\n",
      "6  Charlie   35   70000\n",
      "7    james   30  400000\n"
     ]
    }
   ],
   "source": [
    "## delete 열 삭제하기\n",
    "\n",
    "df=df.drop('delete', axis=1)\n",
    "\n",
    "print(df)"
   ]
  },
  {
   "cell_type": "code",
   "execution_count": 58,
   "metadata": {},
   "outputs": [
    {
     "name": "stdout",
     "output_type": "stream",
     "text": [
      "   name  age  salary\n",
      "  Alice   25   50000\n",
      "    Bob   30   60000\n",
      "Charlie   35   70000\n",
      "  james   30  400000\n",
      "  Alice   25   50000\n",
      "    Bob   30   60000\n",
      "Charlie   35   70000\n",
      "  james   30  400000\n"
     ]
    }
   ],
   "source": [
    "## index열 삭제하기\n",
    "\n",
    "df_string = df.to_string(index=False)\n",
    "\n",
    "print(df_string)"
   ]
  },
  {
   "cell_type": "code",
   "execution_count": 61,
   "metadata": {},
   "outputs": [
    {
     "name": "stdout",
     "output_type": "stream",
     "text": [
      "  name  age  salary\n",
      "0  앨리스   25   50000\n",
      "1    밥   30   60000\n",
      "2   찰리   35   70000\n",
      "3  제임스   30  400000\n",
      "4  앨리스   25   50000\n",
      "5    밥   30   60000\n",
      "6   찰리   35   70000\n",
      "7  제임스   30  400000\n"
     ]
    }
   ],
   "source": [
    "## name열의 데이터 값을 한글로 바꾸기\n",
    "name_korean = {\n",
    "    'Alice' : '앨리스',\n",
    "    'Bob' : '밥',\n",
    "    'Charlie': '찰리',\n",
    "    'james': '제임스',\n",
    "}\n",
    "\n",
    "df['name'] = df['name'].replace(name_korean)\n",
    "\n",
    "print(df)"
   ]
  },
  {
   "cell_type": "code",
   "execution_count": 63,
   "metadata": {},
   "outputs": [
    {
     "name": "stdout",
     "output_type": "stream",
     "text": [
      "  name  age   salary\n",
      "0  앨리스   25   50,000\n",
      "1    밥   30   60,000\n",
      "2   찰리   35   70,000\n",
      "3  제임스   30  400,000\n",
      "4  앨리스   25   50,000\n",
      "5    밥   30   60,000\n",
      "6   찰리   35   70,000\n",
      "7  제임스   30  400,000\n"
     ]
    }
   ],
   "source": [
    "## ₩단위로 고치기\n",
    "\n",
    "def korean_won(number):\n",
    "    return '{:,.0f}'.format(number)\n",
    "\n",
    "df['salary'] = df['salary'].apply(korean_won)\n",
    "\n",
    "print(df)"
   ]
  },
  {
   "cell_type": "code",
   "execution_count": 64,
   "metadata": {},
   "outputs": [
    {
     "name": "stdout",
     "output_type": "stream",
     "text": [
      "name  age  salary\n",
      " 앨리스   25  50,000\n",
      "   밥   30  60,000\n",
      "  찰리   35  70,000\n",
      " 제임스   30 400,000\n",
      " 앨리스   25  50,000\n",
      "   밥   30  60,000\n",
      "  찰리   35  70,000\n",
      " 제임스   30 400,000\n"
     ]
    }
   ],
   "source": [
    "\n",
    "df_string = df.to_string(index=False)\n",
    "\n",
    "print(df_string)"
   ]
  },
  {
   "cell_type": "code",
   "execution_count": null,
   "metadata": {},
   "outputs": [],
   "source": [
    "## csv파일로 저장하기\n",
    "df.to_csv('my_data_out.csv', index=False)"
   ]
  }
 ],
 "metadata": {
  "kernelspec": {
   "display_name": "Python 3",
   "language": "python",
   "name": "python3"
  },
  "language_info": {
   "codemirror_mode": {
    "name": "ipython",
    "version": 3
   },
   "file_extension": ".py",
   "mimetype": "text/x-python",
   "name": "python",
   "nbconvert_exporter": "python",
   "pygments_lexer": "ipython3",
   "version": "3.11.4"
  },
  "orig_nbformat": 4
 },
 "nbformat": 4,
 "nbformat_minor": 2
}
