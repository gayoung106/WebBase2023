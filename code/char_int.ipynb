{
 "cells": [
  {
   "cell_type": "code",
   "execution_count": 2,
   "metadata": {},
   "outputs": [
    {
     "name": "stdout",
     "output_type": "stream",
     "text": [
      "97\n",
      "65\n",
      "False\n",
      "False\n"
     ]
    }
   ],
   "source": [
    "# 대/소 문자 구분\n",
    "print(ord('a'))  # 소문자 a의 유니코드 : 97\n",
    "print(ord('A'))  # 대문자 a의 유니코드 : 97\n",
    "\n",
    "# 유니코드를 통한 대/소 문자 비교\n",
    "print('a' < 'A') \n",
    "print('a' == 'A') \n"
   ]
  },
  {
   "cell_type": "code",
   "execution_count": 3,
   "metadata": {},
   "outputs": [
    {
     "name": "stdout",
     "output_type": "stream",
     "text": [
      "True\n",
      "False\n"
     ]
    }
   ],
   "source": [
    "\n",
    "# Sting 비교\n",
    "print('apple' < 'banana')  \n",
    "\n",
    "# 같은 문장 비교(대/소문자 구분) \n",
    "print('apple' == 'Apple')  "
   ]
  },
  {
   "cell_type": "code",
   "execution_count": 5,
   "metadata": {},
   "outputs": [
    {
     "name": "stdout",
     "output_type": "stream",
     "text": [
      "10이 5보다 크다\n",
      "apple banana 앞에 온다: apple이 banana보다 유니코드 숫자가 작다\n"
     ]
    }
   ],
   "source": [
    "# 숫자 비교\n",
    "num1 = 10\n",
    "num2 = 5\n",
    "\n",
    "if num1 > num2:\n",
    "    print(\"10이 5보다 크다\")\n",
    "elif num1 < num2:\n",
    "    print(\"10이 5보다 작다\")\n",
    "else:\n",
    "    print(\"10과 5는 같다\")\n",
    "\n",
    "# 문자열 비교\n",
    "str1 = \"apple\"\n",
    "str2 = \"banana\"\n",
    "\n",
    "if str1 > str2:\n",
    "    print(\"apple은 banana 다음에 온다: apple이 banana보다 유니코드 숫자가 크다\")\n",
    "elif str1 < str2:\n",
    "    print(\"apple banana 앞에 온다: apple이 banana보다 유니코드 숫자가 작다\")\n",
    "else:\n",
    "    print(\"apple과 eqbanana의 유니코드 비교는 같다\")\n"
   ]
  },
  {
   "cell_type": "code",
   "execution_count": null,
   "metadata": {},
   "outputs": [],
   "source": []
  }
 ],
 "metadata": {
  "kernelspec": {
   "display_name": "Python 3",
   "language": "python",
   "name": "python3"
  },
  "language_info": {
   "codemirror_mode": {
    "name": "ipython",
    "version": 3
   },
   "file_extension": ".py",
   "mimetype": "text/x-python",
   "name": "python",
   "nbconvert_exporter": "python",
   "pygments_lexer": "ipython3",
   "version": "3.11.4"
  },
  "orig_nbformat": 4
 },
 "nbformat": 4,
 "nbformat_minor": 2
}
