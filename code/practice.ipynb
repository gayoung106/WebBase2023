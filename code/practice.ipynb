{
 "cells": [
  {
   "cell_type": "code",
   "execution_count": 1,
   "metadata": {},
   "outputs": [],
   "source": [
    "import pandas as pd"
   ]
  },
  {
   "cell_type": "code",
   "execution_count": 2,
   "metadata": {},
   "outputs": [
    {
     "name": "stdout",
     "output_type": "stream",
     "text": [
      "   Unnamed: 0     name  age  salary\n",
      "0           0    Alice   25   50000\n",
      "1           1      Bob   30   60000\n",
      "2           2  Charlie   35   70000\n",
      "3           3    james   30  400000\n",
      "4           4    Alice   25   50000\n",
      "5           5      Bob   30   60000\n",
      "6           6  Charlie   35   70000\n",
      "7           7    james   30  400000\n"
     ]
    }
   ],
   "source": [
    "## my_data.csv 불러오기\n",
    "\n",
    "csv_data = 'my_data.csv'\n",
    "df = pd.read_csv('../my_data.csv')\n",
    "\n",
    "print(df)"
   ]
  },
  {
   "cell_type": "code",
   "execution_count": 3,
   "metadata": {},
   "outputs": [
    {
     "name": "stdout",
     "output_type": "stream",
     "text": [
      "   Unnamed: 0     name  age  salary\n",
      "0           0    Alice   25   50000\n",
      "1           1      Bob   30   60000\n",
      "2           2  Charlie   35   70000\n",
      "3           3    james   30  400000\n",
      "4           4    Alice   25   50000\n",
      "5           5      Bob   30   60000\n",
      "6           6  Charlie   35   70000\n",
      "7           7    james   30  400000\n"
     ]
    }
   ],
   "source": [
    "rename_df = df.rename(columns= {'Unnamed: 0':'del'})\n",
    "\n",
    "print(rename_df)"
   ]
  },
  {
   "cell_type": "code",
   "execution_count": null,
   "metadata": {},
   "outputs": [],
   "source": []
  }
 ],
 "metadata": {
  "kernelspec": {
   "display_name": "Python 3",
   "language": "python",
   "name": "python3"
  },
  "language_info": {
   "codemirror_mode": {
    "name": "ipython",
    "version": 3
   },
   "file_extension": ".py",
   "mimetype": "text/x-python",
   "name": "python",
   "nbconvert_exporter": "python",
   "pygments_lexer": "ipython3",
   "version": "3.11.4"
  },
  "orig_nbformat": 4
 },
 "nbformat": 4,
 "nbformat_minor": 2
}
